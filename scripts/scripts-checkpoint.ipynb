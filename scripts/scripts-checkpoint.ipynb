{
 "cells": [
  {
   "cell_type": "markdown",
   "metadata": {},
   "source": [
    "## Analysis of HIBP/YouGov Data"
   ]
  },
  {
   "cell_type": "code",
   "execution_count": 1,
   "metadata": {},
   "outputs": [
    {
     "data": {
      "text/plain": [
       "['.android',\n",
       " '.atom',\n",
       " '.cisco',\n",
       " '.dbvis',\n",
       " '.eclipse',\n",
       " '.idlerc',\n",
       " '.IntelliJIdea2019.3',\n",
       " '.ipynb_checkpoints',\n",
       " '.ipython',\n",
       " '.jupyter',\n",
       " '.matplotlib',\n",
       " '.p2',\n",
       " '.tooling',\n",
       " '03-26-20.sql',\n",
       " '03-26-20_1.sql',\n",
       " '03-31sql.sql',\n",
       " '04-14-20_1.sql',\n",
       " '04-21-20.sql',\n",
       " '04-24-20.sql',\n",
       " '04_03_1.sql',\n",
       " '04_07.sql',\n",
       " '3D Objects',\n",
       " 'AppData',\n",
       " 'Application Data',\n",
       " 'Contacts',\n",
       " 'Cookies',\n",
       " 'Desktop',\n",
       " 'Documents',\n",
       " 'Downloads',\n",
       " 'eclipse',\n",
       " 'eclipse-workspace',\n",
       " 'export.sql',\n",
       " 'export.tsv',\n",
       " 'Favorites',\n",
       " 'homework.sql',\n",
       " 'Homework4.sql',\n",
       " 'IdeaProjects',\n",
       " 'inclass_chapter3.sql',\n",
       " 'IntelGraphicsProfiles',\n",
       " 'ITOracle12~2.sql',\n",
       " 'Links',\n",
       " 'Local Settings',\n",
       " 'MicrosoftEdgeBackups',\n",
       " 'Music',\n",
       " 'My Documents',\n",
       " 'My_Project',\n",
       " 'NetHood',\n",
       " 'NTUSER.DAT',\n",
       " 'ntuser.dat.LOG1',\n",
       " 'ntuser.dat.LOG2',\n",
       " 'NTUSER.DAT{1c3790b4-b8ad-11e8-aa21-e41d2d101530}.TM.blf',\n",
       " 'NTUSER.DAT{1c3790b4-b8ad-11e8-aa21-e41d2d101530}.TMContainer00000000000000000001.regtrans-ms',\n",
       " 'NTUSER.DAT{1c3790b4-b8ad-11e8-aa21-e41d2d101530}.TMContainer00000000000000000002.regtrans-ms',\n",
       " 'ntuser.ini',\n",
       " 'OneDrive',\n",
       " 'Pictures',\n",
       " 'PrintHood',\n",
       " 'pwned.ipynb',\n",
       " 'Python1.py',\n",
       " 'Recent',\n",
       " 'Saved Games',\n",
       " 'Searches',\n",
       " 'SendTo',\n",
       " 'Start Menu',\n",
       " 'Templates',\n",
       " 'test.sql',\n",
       " 'test1.sql',\n",
       " 'test2.sql',\n",
       " 'test3.sql',\n",
       " 'Untitled.ipynb',\n",
       " 'Untitled1.ipynb',\n",
       " 'Videos']"
      ]
     },
     "execution_count": 1,
     "metadata": {},
     "output_type": "execute_result"
    }
   ],
   "source": [
    "import os\n",
    "import pandas as pd\n",
    "import matplotlib\n",
    "import matplotlib.pyplot as plt\n",
    "import seaborn as sns\n",
    "import zipfile\n",
    "os.getcwd()\n",
    "os.listdir('.')\n"
   ]
  },
  {
   "cell_type": "code",
   "execution_count": 2,
   "metadata": {},
   "outputs": [
    {
     "name": "stdout",
     "output_type": "stream",
     "text": [
      "Number of people: 5000\n",
      "Number of people whose info. was breached: 4142\n",
      "Number of breaches: 14979\n"
     ]
    }
   ],
   "source": [
    "# %% Read the data\n",
    "originalD = pd.read_csv('My_Project/data/Original_data.csv', low_memory=False)\n",
    "pwnedD = pd.read_csv('My_Project/data/breached_data.csv', low_memory=False)\n",
    "print(\"Number of people:\", originalD.shape[0])\n",
    "print(\"Number of people whose info. was breached:\", pwnedD['id'].nunique())\n",
    "print(\"Number of breaches:\", pwnedD.shape[0])\n"
   ]
  },
  {
   "cell_type": "code",
   "execution_count": 8,
   "metadata": {},
   "outputs": [
    {
     "name": "stdout",
     "output_type": "stream",
     "text": [
      "Number of rows in the final dataset:  15837\n"
     ]
    }
   ],
   "source": [
    "# %% Merge the two files\n",
    "fin_dat = pd.merge(originalD, pwnedD, on='id', how='left')\n",
    "print(\"Number of rows in the final dataset: \", fin_dat.shape[0])"
   ]
  },
  {
   "cell_type": "code",
   "execution_count": 9,
   "metadata": {},
   "outputs": [
    {
     "data": {
      "text/plain": [
       "count    5000.00\n",
       "mean        3.00\n",
       "std         2.62\n",
       "min         0.00\n",
       "25%         1.00\n",
       "50%         3.00\n",
       "75%         4.00\n",
       "max        22.00\n",
       "Name: pwn, dtype: float64"
      ]
     },
     "execution_count": 9,
     "metadata": {},
     "output_type": "execute_result"
    }
   ],
   "source": [
    "# %% some people's emails are not part of the breach but join produces NaNs for them. We swap them with 0s\n",
    "fin_dat['pwn'] = pd.notna(fin_dat['PwnCount'])\n",
    "fin_dat.groupby(['id'])['pwn'].sum().describe().round(2)"
   ]
  },
  {
   "cell_type": "code",
   "execution_count": 10,
   "metadata": {},
   "outputs": [
    {
     "name": "stdout",
     "output_type": "stream",
     "text": [
      "female    0.54\n",
      "male      0.46\n",
      "Name: sex, dtype: float64\n"
     ]
    },
    {
     "data": {
      "image/png": "[encoded data removed]",
      "text/plain": [
       "<Figure size 360x360 with 1 Axes>"
      ]
     },
     "metadata": {
      "needs_background": "light"
     },
     "output_type": "display_data"
    }
   ],
   "source": [
    "# %% Recode gender\n",
    "fin_dat['sex'] = fin_dat['gender'].replace({1: 'male', 2: 'female'})\n",
    "print((fin_dat['sex'].value_counts() / fin_dat['sex'].value_counts().sum()).round(2))\n",
    "# %% Gender Graph\n",
    "ax = (pd.DataFrame(fin_dat.groupby(['id', 'sex'])['pwn'].sum().groupby(['sex']).mean().round(2))).plot(kind='bar',\n",
    "                                                                                                  grid= True,\n",
    "                                                                                                  legend= False,\n",
    "                                                                                                  figsize=[5, 5],\n",
    "                                                                                                  color='#339933',\n",
    "                                                                                                title='Relation Between Gender and Number of Breaches')\n",
    "ax.set_ylabel('Average Number of Accounts Breached')\n",
    "ax.set_xlabel('')\n",
    "plt.savefig('gender.png', bbox_inches = 'tight')\n",
    "plt.show()\n",
    "\n"
   ]
  },
  {
   "cell_type": "code",
   "execution_count": 11,
   "metadata": {},
   "outputs": [
    {
     "name": "stdout",
     "output_type": "stream",
     "text": [
      "race_eth\n",
      "Asian              2.82\n",
      "Black              3.16\n",
      "Hispanic/Latino    2.50\n",
      "Middle Eastern     2.66\n",
      "Mixed Race         2.45\n",
      "Native American    2.96\n",
      "Other              2.92\n",
      "White              3.12\n",
      "Name: pwn, dtype: float64\n"
     ]
    },
    {
     "data": {
      "text/plain": [
       "<Figure size 432x288 with 0 Axes>"
      ]
     },
     "metadata": {},
     "output_type": "display_data"
    },
    {
     "data": {
      "image/png": "[encoded data removed]",
      "text/plain": [
       "<Figure size 504x360 with 1 Axes>"
      ]
     },
     "metadata": {
      "needs_background": "light"
     },
     "output_type": "display_data"
    }
   ],
   "source": [
    "# %%\n",
    "# Recoding Race and Ethnicity\n",
    "fin_dat['race_eth'] = fin_dat['race'].replace({1: 'White',\n",
    "                                               2: 'Black',\n",
    "                                               3: 'Hispanic/Latino',\n",
    "                                               4: 'Asian',\n",
    "                                               5: 'Native American',\n",
    "                                               6: 'Middle Eastern',\n",
    "                                               7: 'Mixed Race',\n",
    "                                               8: 'Other'})\n",
    "\n",
    "# Let's first check how many of each we got\n",
    "X = (fin_dat['race_eth'].value_counts() / fin_dat['race_eth'].value_counts().sum()).round(2)\n",
    "# Mean number of breaches the emails of people of diff. race/ethnicity are part of\n",
    "Y = fin_dat.groupby(['id', 'race_eth'])['pwn'].sum().groupby(['race_eth']).mean().round(2)\n",
    "print(Y)\n",
    "#%% Race and Ethnicity Graph\n",
    "fig = plt.figure()\n",
    "ax = (pd.DataFrame (fin_dat.groupby(['id', 'race_eth'])['pwn'].sum().groupby(['race_eth']).mean().round(2))).plot(kind='barh',\n",
    "                                                                                                                      legend=False,\n",
    "                                                                                                                      figsize=[7, 5],\n",
    "                                                                                                                      color='blue',\n",
    "                                                                                                                      title='Relation Between Race and Number of Breaches')\n",
    "ax.set_xlabel('Average Number of Accounts Breached')\n",
    "ax.set_ylabel('')\n",
    "plt.savefig('Race.png',bbox_inches = 'tight')\n",
    "plt.show()"
   ]
  },
  {
   "cell_type": "code",
   "execution_count": 12,
   "metadata": {},
   "outputs": [
    {
     "name": "stdout",
     "output_type": "stream",
     "text": [
      "HS Grad.                 0.32\n",
      "Some College             0.20\n",
      "4-year College Degree    0.19\n",
      "Postgrad Degree          0.11\n",
      "2-year College Degree    0.11\n",
      "No HS                    0.06\n",
      "Name: educat, dtype: float64\n"
     ]
    }
   ],
   "source": [
    "#%%  changing numbers to Education labels\n",
    "fin_dat['educat'] = fin_dat['educ'].replace({1: 'No HS',\n",
    "                                             2: 'HS Grad.',\n",
    "                                             3: 'Some College',\n",
    "                                             4: '2-year College Degree',\n",
    "                                             5: '4-year College Degree',\n",
    "                                             6: 'Postgrad Degree'})\n",
    "\n",
    "# Let's check how many of each we got\n",
    "x1=(fin_dat['educat'].value_counts()/fin_dat['educat'].value_counts().sum()).round(2)\n",
    "print(x1)"
   ]
  },
  {
   "cell_type": "code",
   "execution_count": 13,
   "metadata": {},
   "outputs": [
    {
     "data": {
      "image/png": "[encoded data removed]",
      "text/plain": [
       "<Figure size 504x360 with 1 Axes>"
      ]
     },
     "metadata": {
      "needs_background": "light"
     },
     "output_type": "display_data"
    }
   ],
   "source": [
    "#%% Education Graph\n",
    "ax = pd.DataFrame(fin_dat.groupby(['id', 'educat'])['pwn'].sum().groupby(['educat']).mean().round(2)).plot(kind='barh',\n",
    "                                                                                                               legend=False,\n",
    "                                                                                                               figsize=[7, 5],\n",
    "                                                                                                               color='Purple',\n",
    "                                                                                                                title='Relation Between Education and Number of Breaches')\n",
    "ax.set_xlabel('Average Number of Accounts Breached')\n",
    "ax.set_ylabel('')\n",
    "plt.savefig('Education.png', bbox_inches = 'tight')\n",
    "plt.show()"
   ]
  },
  {
   "cell_type": "code",
   "execution_count": 14,
   "metadata": {},
   "outputs": [
    {
     "name": "stdout",
     "output_type": "stream",
     "text": [
      "(50, 65]     0.28\n",
      "(35, 50]     0.26\n",
      "(25, 35]     0.19\n",
      "(65, 100]    0.18\n",
      "(18, 25]     0.09\n",
      "Name: agecat, dtype: float64\n"
     ]
    },
    {
     "data": {
      "image/png": "[encoded data removed]",
      "text/plain": [
       "<Figure size 504x360 with 1 Axes>"
      ]
     },
     "metadata": {
      "needs_background": "light"
     },
     "output_type": "display_data"
    }
   ],
   "source": [
    "#%% Recode By Age\n",
    "\n",
    "fin_dat['agecat'] = pd.cut(2018 - fin_dat['birthyr'], [18, 25, 35, 50, 65, 100])\n",
    "print((fin_dat['agecat'].value_counts()/fin_dat['agecat'].value_counts().sum()).round(2))\n",
    "#%% Age Graph\n",
    "x2 = pd.DataFrame(fin_dat.groupby(['id', 'agecat'])['pwn'].sum().groupby(['agecat']).mean().round(2)).plot(kind='bar',\n",
    "                                                                                             legend=False,\n",
    "                                                                                             figsize=[7, 5],\n",
    "                                                                                             color='pink',\n",
    "                                                                                             title='Relation Between Age and Number of Breaches')\n",
    "x2.set_ylabel('Average Number of Accounts Breached')\n",
    "x2.set_xlabel('')\n",
    "plt.savefig('Age.png', bbox_inches =\"tight\")\n",
    "plt.show()"
   ]
  },
  {
   "cell_type": "code",
   "execution_count": null,
   "metadata": {},
   "outputs": [],
   "source": []
  }
 ],
 "metadata": {
  "kernelspec": {
   "display_name": "Python 3",
   "language": "python",
   "name": "python3"
  },
  "language_info": {
   "codemirror_mode": {
    "name": "ipython",
    "version": 3
   },
   "file_extension": ".py",
   "mimetype": "text/x-python",
   "name": "python",
   "nbconvert_exporter": "python",
   "pygments_lexer": "ipython3",
   "version": "3.8.2"
  }
 },
 "nbformat": 4,
 "nbformat_minor": 4
}
